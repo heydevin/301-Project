{
 "cells": [
  {
   "cell_type": "markdown",
   "id": "c6baa7ff-91d1-4ad2-82ee-1e1e4fe7190a",
   "metadata": {},
   "source": [
    "# Assignment 1: Data and Question"
   ]
  },
  {
   "cell_type": "markdown",
   "id": "1167ea57-9083-4a81-a2e8-3694182e5e8d",
   "metadata": {
    "tags": []
   },
   "source": [
    "## 1. Data Description:"
   ]
  },
  {
   "cell_type": "markdown",
   "id": "35331793-448a-4d79-851b-849b8ab353d7",
   "metadata": {},
   "source": [
    "This dataset is focused on the salaries of jobs in the Data Science field, it contains 607 observations with 12 variables. All the variables with explanations are shown below. And before delving into the dataset specifics, it's essential to understand the role of a Data Scientist. \n",
    "\n",
    "A Data Scientist is an analytical data expert who uses data to illustrate and explain the phenomena around them, analyze the initial problems that need to be solved, and assist organizations in making better decisions. They have different positions, and they work for companies of all kinds and sizes. Some are multi-national companies that might have thousands of employees worldwide, while there can also be small companies that have about ten to a hundred workers.\n",
    "\n",
    "The dataset was collected from a salary information online website, ai-jobs.net, which contains a solid amount of companies' information on salaries with different job titles in domains like AI, ML, Data Science, and Big Data.\n",
    "\n",
    "**Dataset Variables Information:**\n",
    "- Work Year - The year the salary was paid.\n",
    "- Experience Level - The experience level in the job with the following values: EN Entry-level, Junior MI Mid-level, Intermediate SE Senior-level, Expert EX Executive-level, Director.\n",
    "- Employment Type - The type of employement for the role: PT Part-time FT Full-time CT Contract FL Freelance.\n",
    "- Job Title - The role worked in during the year.\n",
    "- Salary - The total gross salary amount paid.\n",
    "- Salary Currency - The currency of the salary paid as an ISO 4217 currency code.\n",
    "- Salary In USD - The salary in USD (FX rate divided by avg. USD rate for the respective year via fxdata.foorilla.com).\n",
    "- Employee Residence - Employee's primary country of residence in during the work year as an ISO 3166 country code.\n",
    "- Remote Ratio - The overall amount of work done remotely with the following values: 0 No remote work (less than 20%), 50 Partially remote, 100 Fully remote (more than 80%).\n",
    "- Company Location - The country of the employer's main office or contracting branch as an ISO 3166 country code.\n",
    "- Company Size - The average number of people that worked for the company during the year: S less than 50 employees (small), M 50 to 250 employees (medium), L more than 250 employees (large).\n",
    "<br>\n"
   ]
  },
  {
   "cell_type": "markdown",
   "id": "b338b506-e38f-4126-9ee2-ecf5d35522c4",
   "metadata": {},
   "source": [
    "## 2. Question:"
   ]
  },
  {
   "cell_type": "markdown",
   "id": "c144c135-d0b8-4746-9732-cfdaa9aebc86",
   "metadata": {},
   "source": [
    "I am interested in determining the factors that best predict a data scientist's salary based on the given information. Therefore, I will choose Salary In USD be my variable of interest (the response), and the rest of the variables being the explanatory variables to find out what factors have a strong correlation with salary. <br> And my question for research will be **\"What are the variables that best predict one's salary?\"** and it will be focused on prediction."
   ]
  }
 ],
 "metadata": {
  "kernelspec": {
   "display_name": "R",
   "language": "R",
   "name": "ir"
  },
  "language_info": {
   "codemirror_mode": "r",
   "file_extension": ".r",
   "mimetype": "text/x-r-source",
   "name": "R",
   "pygments_lexer": "r",
   "version": "4.2.3"
  }
 },
 "nbformat": 4,
 "nbformat_minor": 5
}
